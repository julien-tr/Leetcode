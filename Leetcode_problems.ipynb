{
 "cells": [
  {
   "cell_type": "markdown",
   "metadata": {},
   "source": [
    "# 1480. Running Sum of 1d Array ✅\n",
    "https://leetcode.com/problems/running-sum-of-1d-array/"
   ]
  },
  {
   "cell_type": "code",
   "execution_count": 34,
   "metadata": {},
   "outputs": [],
   "source": [
    "def runningSum(nums):\n",
    "    \"\"\"\n",
    "    :type nums: List[int]\n",
    "    :rtype: List[int]\n",
    "    \"\"\"\n",
    "    a = []\n",
    "    b = []\n",
    "    for n in nums:\n",
    "        b.append(n + sum(a))\n",
    "        a.append(n)\n",
    "    return b"
   ]
  },
  {
   "cell_type": "code",
   "execution_count": 35,
   "metadata": {},
   "outputs": [],
   "source": [
    "nums = [1,2,3,4]"
   ]
  },
  {
   "cell_type": "code",
   "execution_count": 36,
   "metadata": {},
   "outputs": [
    {
     "data": {
      "text/plain": [
       "[1, 3, 6, 10]"
      ]
     },
     "execution_count": 36,
     "metadata": {},
     "output_type": "execute_result"
    }
   ],
   "source": [
    "runningSum(nums)"
   ]
  },
  {
   "cell_type": "markdown",
   "metadata": {},
   "source": [
    "# 1431. Kids With the Greatest Number of Candies ✅\n",
    "https://leetcode.com/problems/kids-with-the-greatest-number-of-candies/"
   ]
  },
  {
   "cell_type": "code",
   "execution_count": 102,
   "metadata": {},
   "outputs": [],
   "source": [
    "def kidsWithCandies(candies, extraCandies):\n",
    "    \"\"\"\n",
    "    :type candies: List[int]\n",
    "    :type extraCandies: int\n",
    "    :rtype: List[bool]\n",
    "    \"\"\"\n",
    "    final_list = []\n",
    "    for k in candies:\n",
    "        checklist = candies.copy()\n",
    "        checklist.remove(k) \n",
    "        if all(k + extraCandies >= c for c in checklist):\n",
    "             final_list.append('True')\n",
    "        else:\n",
    "             final_list.append('False')           \n",
    "    return final_list\n",
    "    \n"
   ]
  },
  {
   "cell_type": "code",
   "execution_count": 103,
   "metadata": {},
   "outputs": [],
   "source": [
    "candies = [2,3,5,1,3]\n",
    "extraCandies = 3"
   ]
  },
  {
   "cell_type": "code",
   "execution_count": 104,
   "metadata": {},
   "outputs": [
    {
     "data": {
      "text/plain": [
       "['True', 'True', 'True', 'False', 'True']"
      ]
     },
     "execution_count": 104,
     "metadata": {},
     "output_type": "execute_result"
    }
   ],
   "source": [
    "kidsWithCandies(candies, extraCandies)"
   ]
  },
  {
   "cell_type": "markdown",
   "metadata": {},
   "source": [
    "# 1470. Shuffle the Array ✅\n",
    "https://leetcode.com/problems/shuffle-the-array/"
   ]
  },
  {
   "cell_type": "code",
   "execution_count": 447,
   "metadata": {},
   "outputs": [],
   "source": [
    "def shuffle(nums, n):\n",
    "    x = nums[:n] \n",
    "    y = nums[-n:]\n",
    "    return [j for i in zip(x,y) for j in i] "
   ]
  },
  {
   "cell_type": "code",
   "execution_count": 448,
   "metadata": {},
   "outputs": [],
   "source": [
    "nums = [2,5,1,3,4,7]\n",
    "n = 3"
   ]
  },
  {
   "cell_type": "code",
   "execution_count": 449,
   "metadata": {},
   "outputs": [
    {
     "data": {
      "text/plain": [
       "[2, 3, 5, 4, 1, 7]"
      ]
     },
     "execution_count": 449,
     "metadata": {},
     "output_type": "execute_result"
    }
   ],
   "source": [
    "shuffle(nums, n)"
   ]
  },
  {
   "cell_type": "markdown",
   "metadata": {},
   "source": [
    "# 1108. Defanging an IP Address ✅\n",
    "https://leetcode.com/problems/defanging-an-ip-address/"
   ]
  },
  {
   "cell_type": "code",
   "execution_count": 51,
   "metadata": {},
   "outputs": [],
   "source": [
    "class Solution:\n",
    "    def defangIPaddr(self, address: str) -> str:\n",
    "        return address.replace(\".\", \"[.]\")"
   ]
  },
  {
   "cell_type": "code",
   "execution_count": null,
   "metadata": {},
   "outputs": [],
   "source": []
  },
  {
   "cell_type": "markdown",
   "metadata": {},
   "source": [
    "# 771. Jewels and Stones ✅\n",
    "https://leetcode.com/problems/jewels-and-stones/"
   ]
  },
  {
   "cell_type": "code",
   "execution_count": 143,
   "metadata": {},
   "outputs": [],
   "source": [
    "def numJewelsInStones(J: str, S: str):\n",
    "    jewel_counter =0\n",
    "    for stone in S:\n",
    "        if stone in J:\n",
    "            jewel_counter += 1\n",
    "    return jewel_counter\n"
   ]
  },
  {
   "cell_type": "code",
   "execution_count": 144,
   "metadata": {},
   "outputs": [],
   "source": [
    "J = \"aA\"\n",
    "S = \"aAAbbbb\"\n",
    "#Output: 3"
   ]
  },
  {
   "cell_type": "code",
   "execution_count": 147,
   "metadata": {},
   "outputs": [],
   "source": [
    "J = \"z\"\n",
    "S = \"ZZ\"\n",
    "#Output: 0  "
   ]
  },
  {
   "cell_type": "code",
   "execution_count": 175,
   "metadata": {},
   "outputs": [
    {
     "data": {
      "text/plain": [
       "0"
      ]
     },
     "execution_count": 175,
     "metadata": {},
     "output_type": "execute_result"
    }
   ],
   "source": [
    "numJewelsInStones(J,S)"
   ]
  },
  {
   "cell_type": "markdown",
   "metadata": {},
   "source": [
    "# 1528. Shuffle String ✅\n",
    "https://leetcode.com/problems/shuffle-string/"
   ]
  },
  {
   "cell_type": "code",
   "execution_count": 250,
   "metadata": {},
   "outputs": [],
   "source": [
    "def restoreString(s, indices):\n",
    "    dot = list(\".\" * len(s))\n",
    "    i = 0    \n",
    "    for l in s:\n",
    "        dot[indices[i]] = l\n",
    "        i += 1\n",
    "    return \"\".join(dot)\n",
    "        "
   ]
  },
  {
   "cell_type": "code",
   "execution_count": 251,
   "metadata": {},
   "outputs": [],
   "source": [
    "s = \"codeleet\"\n",
    "indices = [4,5,6,7,0,1,2,3]\n"
   ]
  },
  {
   "cell_type": "code",
   "execution_count": 252,
   "metadata": {},
   "outputs": [
    {
     "data": {
      "text/plain": [
       "'leetcode'"
      ]
     },
     "execution_count": 252,
     "metadata": {},
     "output_type": "execute_result"
    }
   ],
   "source": [
    "restoreString(s,indices)"
   ]
  },
  {
   "cell_type": "markdown",
   "metadata": {},
   "source": [
    "# 1. Two Sum  ❌\n",
    "https://leetcode.com/problems/two-sum/\n",
    "    "
   ]
  },
  {
   "cell_type": "code",
   "execution_count": 53,
   "metadata": {},
   "outputs": [],
   "source": [
    "#Brute Force - need to optimize\n",
    "def twoSum(nums, target):\n",
    "    from itertools import combinations\n",
    "    index_nums = list(enumerate(nums))\n",
    "    pairs = list(combinations(index_nums,2))\n",
    "    for p in pairs:\n",
    "        if p[0][1]+p[1][1] == target:\n",
    "            return (p[0][0],p[1][0])"
   ]
  },
  {
   "cell_type": "code",
   "execution_count": null,
   "metadata": {},
   "outputs": [],
   "source": []
  },
  {
   "cell_type": "code",
   "execution_count": 54,
   "metadata": {},
   "outputs": [],
   "source": [
    "nums = [3,3,5,6,7,8,9]\n",
    "target = 6"
   ]
  },
  {
   "cell_type": "code",
   "execution_count": 55,
   "metadata": {},
   "outputs": [
    {
     "data": {
      "text/plain": [
       "(0, 1)"
      ]
     },
     "execution_count": 55,
     "metadata": {},
     "output_type": "execute_result"
    }
   ],
   "source": [
    "twoSum(nums, target)"
   ]
  },
  {
   "cell_type": "code",
   "execution_count": null,
   "metadata": {},
   "outputs": [],
   "source": []
  },
  {
   "cell_type": "markdown",
   "metadata": {},
   "source": [
    "# 1365. How Many Numbers Are Smaller Than the Current Number  ✅\n",
    "https://leetcode.com/problems/how-many-numbers-are-smaller-than-the-current-number/"
   ]
  },
  {
   "cell_type": "code",
   "execution_count": 17,
   "metadata": {},
   "outputs": [],
   "source": [
    "def smallerNumbersThanCurrent(nums):\n",
    "    ans = []\n",
    "    for n in nums:\n",
    "        ans.append(sorted(nums).index(n))\n",
    "    return ans"
   ]
  },
  {
   "cell_type": "code",
   "execution_count": 20,
   "metadata": {},
   "outputs": [],
   "source": [
    "def smallerNumbersThanCurrent(nums):\n",
    "    return [sorted(nums).index(n) for n in nums]"
   ]
  },
  {
   "cell_type": "code",
   "execution_count": 21,
   "metadata": {},
   "outputs": [],
   "source": [
    "nums = [8,1,2,2,3]\n",
    "#Output: [4,0,1,1,3]"
   ]
  },
  {
   "cell_type": "code",
   "execution_count": 22,
   "metadata": {},
   "outputs": [
    {
     "data": {
      "text/plain": [
       "[4, 0, 1, 1, 3]"
      ]
     },
     "execution_count": 22,
     "metadata": {},
     "output_type": "execute_result"
    }
   ],
   "source": [
    "smallerNumbersThanCurrent(nums)"
   ]
  },
  {
   "cell_type": "markdown",
   "metadata": {},
   "source": [
    "# 1266. Minimum Time Visiting All Points  ✅\n",
    "https://leetcode.com/problems/minimum-time-visiting-all-points/"
   ]
  },
  {
   "cell_type": "code",
   "execution_count": 456,
   "metadata": {},
   "outputs": [],
   "source": [
    "import numpy as np \n",
    "\n",
    "def minTimeToVisitAllPoints(points):\n",
    "    time = 0 \n",
    "    for i in range(len(points)-1):\n",
    "        time += max(abs(np.subtract(points[i+1],points[i])))\n",
    "    return time"
   ]
  },
  {
   "cell_type": "code",
   "execution_count": 457,
   "metadata": {},
   "outputs": [],
   "source": [
    "points = [[3,2],[-2,2]]"
   ]
  },
  {
   "cell_type": "code",
   "execution_count": 458,
   "metadata": {},
   "outputs": [
    {
     "data": {
      "text/plain": [
       "5"
      ]
     },
     "execution_count": 458,
     "metadata": {},
     "output_type": "execute_result"
    }
   ],
   "source": [
    "minTimeToVisitAllPoints(points)"
   ]
  },
  {
   "cell_type": "markdown",
   "metadata": {},
   "source": [
    "# 1603. Design Parking System  ✅\n",
    "https://leetcode.com/problems/design-parking-system/"
   ]
  },
  {
   "cell_type": "code",
   "execution_count": 460,
   "metadata": {},
   "outputs": [],
   "source": [
    "class ParkingSystem:\n",
    "    def __init__(self, big: int, medium: int, small: int):\n",
    "        self.bs = big\n",
    "        self.ms = medium\n",
    "        self.ss = small\n",
    "        self.bo = 0\n",
    "        self.mo = 0\n",
    "        self.so = 0\n",
    "    def addCar(self, carType: int) -> bool:\n",
    "        if carType == 1:\n",
    "            if self.bo < self.bs:\n",
    "                self.bo += 1\n",
    "                return True\n",
    "            else:\n",
    "                return False\n",
    "        if carType == 2:\n",
    "            if self.mo < self.ms:\n",
    "                self.mo += 1\n",
    "                return True\n",
    "            else:\n",
    "                return False\n",
    "        if carType == 3:\n",
    "            if self.so < self.ss:\n",
    "                self.so += 1\n",
    "                return True\n",
    "            else:\n",
    "                return False    \n",
    "        \n",
    "# Your ParkingSystem object will be instantiated and called as such:\n",
    "# obj = ParkingSystem(big, medium, small)\n",
    "# param_1 = obj.addCar(carType)"
   ]
  },
  {
   "cell_type": "code",
   "execution_count": 461,
   "metadata": {},
   "outputs": [],
   "source": [
    "obj = ParkingSystem(1, 1, 0)"
   ]
  },
  {
   "cell_type": "code",
   "execution_count": 462,
   "metadata": {},
   "outputs": [
    {
     "data": {
      "text/plain": [
       "1"
      ]
     },
     "execution_count": 462,
     "metadata": {},
     "output_type": "execute_result"
    }
   ],
   "source": [
    "obj.bs"
   ]
  },
  {
   "cell_type": "markdown",
   "metadata": {},
   "source": [
    "# 1572. Matrix Diagonal Sum  ✅\n",
    "https://leetcode.com/problems/matrix-diagonal-sum/"
   ]
  },
  {
   "cell_type": "code",
   "execution_count": 464,
   "metadata": {},
   "outputs": [],
   "source": [
    "def diagonalSum(mat):\n",
    "    sum = 0\n",
    "    if len(mat) == 1:\n",
    "        return mat[0][0]\n",
    "    elif len(mat) %2 == 1:\n",
    "        for i in range(len(mat)):\n",
    "            sum += mat[i][i]\n",
    "        for i in reversed(range(len(mat))):\n",
    "            j = len(mat)-i-1\n",
    "            sum += mat[i][j]        \n",
    "        sum -= mat[int((len(mat)/2))][int((len(mat)/2))]\n",
    "        return sum\n",
    "    elif len(mat) %2 == 0:\n",
    "        for i in range(len(mat)):\n",
    "            sum += mat[i][i]\n",
    "        for i in reversed(range(len(mat))):\n",
    "            j = len(mat)-i-1\n",
    "            sum += mat[i][j]\n",
    "        return sum\n",
    "    "
   ]
  },
  {
   "cell_type": "code",
   "execution_count": 465,
   "metadata": {},
   "outputs": [],
   "source": [
    "mat = [[7,3,1,9],[3,4,6,9],[6,9,6,6],[9,5,8,5]]\n",
    "#Output: 25"
   ]
  },
  {
   "cell_type": "code",
   "execution_count": 466,
   "metadata": {},
   "outputs": [
    {
     "data": {
      "text/plain": [
       "55"
      ]
     },
     "execution_count": 466,
     "metadata": {},
     "output_type": "execute_result"
    }
   ],
   "source": [
    "diagonalSum(mat)"
   ]
  },
  {
   "cell_type": "markdown",
   "metadata": {},
   "source": [
    "# 563. Binary Tree Tilt ❌\n",
    "(Let's come back to this one)\n",
    "https://leetcode.com/problems/binary-tree-tilt/\n",
    "\n"
   ]
  },
  {
   "cell_type": "code",
   "execution_count": 29,
   "metadata": {},
   "outputs": [],
   "source": [
    "def findTilt(root):\n",
    "    tree = []\n",
    "    tilts = []\n",
    "\n",
    "    def standardize_tree(root):\n",
    "        tree = [0 if v == 'null' else v for v in root]\n",
    "    standardize_tree(root)    \n",
    "    \n",
    "    #def get_tilt(node):\n",
    "    #    return abs(node[1]-node[2])\n",
    "    \n",
    "    #for node in root:\n",
    "    #tilts.append(get_tilt(root))\n",
    "    \n",
    "    return tree"
   ]
  },
  {
   "cell_type": "markdown",
   "metadata": {},
   "source": [
    "Problems : \n",
    "- Change nulls to 0, will it affect the result ?\n",
    "- Pad the last row with os ?\n",
    "- buil a recursive fuction to iterate through each nodes and append resul to tilts ?\n",
    "- return sum of tilts ?"
   ]
  },
  {
   "cell_type": "code",
   "execution_count": 34,
   "metadata": {},
   "outputs": [
    {
     "ename": "NameError",
     "evalue": "name 'null' is not defined",
     "output_type": "error",
     "traceback": [
      "\u001b[0;31m---------------------------------------------------------------------------\u001b[0m",
      "\u001b[0;31mNameError\u001b[0m                                 Traceback (most recent call last)",
      "\u001b[0;32m<ipython-input-34-2cb17d72ac50>\u001b[0m in \u001b[0;36m<module>\u001b[0;34m\u001b[0m\n\u001b[1;32m      1\u001b[0m \u001b[0;31m#root = [1,2,3]\u001b[0m\u001b[0;34m\u001b[0m\u001b[0;34m\u001b[0m\u001b[0;34m\u001b[0m\u001b[0m\n\u001b[1;32m      2\u001b[0m \u001b[0;31m# Output 1\u001b[0m\u001b[0;34m\u001b[0m\u001b[0;34m\u001b[0m\u001b[0;34m\u001b[0m\u001b[0m\n\u001b[0;32m----> 3\u001b[0;31m \u001b[0mroot\u001b[0m \u001b[0;34m=\u001b[0m \u001b[0;34m[\u001b[0m\u001b[0;36m4\u001b[0m\u001b[0;34m,\u001b[0m\u001b[0;36m2\u001b[0m\u001b[0;34m,\u001b[0m\u001b[0;36m9\u001b[0m\u001b[0;34m,\u001b[0m\u001b[0;36m3\u001b[0m\u001b[0;34m,\u001b[0m\u001b[0;36m5\u001b[0m\u001b[0;34m,\u001b[0m\u001b[0mnull\u001b[0m\u001b[0;34m,\u001b[0m\u001b[0;36m7\u001b[0m\u001b[0;34m]\u001b[0m\u001b[0;34m\u001b[0m\u001b[0;34m\u001b[0m\u001b[0m\n\u001b[0m\u001b[1;32m      4\u001b[0m \u001b[0;31m# Output 15\u001b[0m\u001b[0;34m\u001b[0m\u001b[0;34m\u001b[0m\u001b[0;34m\u001b[0m\u001b[0m\n\u001b[1;32m      5\u001b[0m \u001b[0;31m# root = [21,7,14,1,1,2,2,3,3]\u001b[0m\u001b[0;34m\u001b[0m\u001b[0;34m\u001b[0m\u001b[0;34m\u001b[0m\u001b[0m\n",
      "\u001b[0;31mNameError\u001b[0m: name 'null' is not defined"
     ]
    }
   ],
   "source": [
    "#root = [1,2,3]\n",
    "# Output 1\n",
    "root = [4,2,9,3,5,null,7]\n",
    "# Output 15\n",
    "# root = [21,7,14,1,1,2,2,3,3]\n",
    "# Output 9"
   ]
  },
  {
   "cell_type": "code",
   "execution_count": 33,
   "metadata": {},
   "outputs": [
    {
     "data": {
      "text/plain": [
       "[]"
      ]
     },
     "execution_count": 33,
     "metadata": {},
     "output_type": "execute_result"
    }
   ],
   "source": [
    "findTilt(root)"
   ]
  },
  {
   "cell_type": "code",
   "execution_count": null,
   "metadata": {},
   "outputs": [],
   "source": []
  },
  {
   "cell_type": "markdown",
   "metadata": {},
   "source": [
    "# 1342. Number of Steps to Reduce a Number to Zero  ✅\n",
    "https://leetcode.com/problems/number-of-steps-to-reduce-a-number-to-zero/"
   ]
  },
  {
   "cell_type": "code",
   "execution_count": 56,
   "metadata": {},
   "outputs": [],
   "source": [
    "def numberOfSteps(num):\n",
    "    steps = 0\n",
    "    while num != 0:\n",
    "        if num %2 == 0:\n",
    "            steps +=1\n",
    "            num /= 2\n",
    "        elif num %2 == 1:\n",
    "            steps += 1\n",
    "            num -= 1\n",
    "    return steps"
   ]
  },
  {
   "cell_type": "code",
   "execution_count": 57,
   "metadata": {},
   "outputs": [],
   "source": [
    "num = 14\n",
    "# output : 6\n",
    "#num = 8\n",
    "# output : 4\n",
    "#num = 123\n",
    "# output : 12"
   ]
  },
  {
   "cell_type": "code",
   "execution_count": 58,
   "metadata": {},
   "outputs": [
    {
     "data": {
      "text/plain": [
       "6"
      ]
     },
     "execution_count": 58,
     "metadata": {},
     "output_type": "execute_result"
    }
   ],
   "source": [
    "numberOfSteps(num)"
   ]
  },
  {
   "cell_type": "markdown",
   "metadata": {},
   "source": [
    "# 1446. Consecutive Characters   ✅\n",
    "https://leetcode.com/problems/consecutive-characters/"
   ]
  },
  {
   "cell_type": "code",
   "execution_count": 61,
   "metadata": {},
   "outputs": [],
   "source": [
    "class Solution:\n",
    "    def maxPower(s):\n",
    "        power = 0\n",
    "        if len(s) == 1:\n",
    "            return 1\n",
    "        for i in range(len(s)-1):\n",
    "            temp_power = 1\n",
    "            while (s[i] == s[i+1]):\n",
    "                temp_power += 1\n",
    "                i += 1\n",
    "                if i == len(s)-1:\n",
    "                    break\n",
    "            if temp_power > power:\n",
    "                power = temp_power\n",
    "        return power"
   ]
  },
  {
   "cell_type": "code",
   "execution_count": 62,
   "metadata": {},
   "outputs": [],
   "source": [
    "s = 'leetcode'"
   ]
  },
  {
   "cell_type": "code",
   "execution_count": 63,
   "metadata": {},
   "outputs": [
    {
     "data": {
      "text/plain": [
       "2"
      ]
     },
     "execution_count": 63,
     "metadata": {},
     "output_type": "execute_result"
    }
   ],
   "source": [
    "Solution.maxPower(s)"
   ]
  },
  {
   "cell_type": "markdown",
   "metadata": {},
   "source": [
    "# 1217. Minimum Cost to Move Chips to The Same Position   ✅\n",
    "https://leetcode.com/problems/minimum-cost-to-move-chips-to-the-same-position/"
   ]
  },
  {
   "cell_type": "code",
   "execution_count": 66,
   "metadata": {},
   "outputs": [],
   "source": [
    "def minCostToMoveChips(position):\n",
    "    \n",
    "    even_list, odd_list = [], []\n",
    "    for num in position: \n",
    "        if num % 2 == 0: \n",
    "            even_list.append(num)\n",
    "        else: \n",
    "            odd_list.append(num)\n",
    "    \n",
    "    cost = 0 \n",
    "    \n",
    "    from statistics import mode\n",
    "    \n",
    "    if len(even_list) > len(odd_list):\n",
    "        goalpost = mode(even_list)\n",
    "    else: \n",
    "        goalpost = mode(odd_list)     \n",
    "    \n",
    "    while goalpost in position:\n",
    "        position.remove(goalpost)\n",
    "    for moving_coins in position:\n",
    "        if abs(moving_coins - goalpost) % 2 == 1 :\n",
    "            cost +=1\n",
    "    \n",
    "    return cost"
   ]
  },
  {
   "cell_type": "code",
   "execution_count": 67,
   "metadata": {},
   "outputs": [],
   "source": [
    "position = [6,4,7,8,2,10,2,7,9,7]\n",
    "# output : 4"
   ]
  },
  {
   "cell_type": "code",
   "execution_count": 68,
   "metadata": {},
   "outputs": [
    {
     "data": {
      "text/plain": [
       "4"
      ]
     },
     "execution_count": 68,
     "metadata": {},
     "output_type": "execute_result"
    }
   ],
   "source": [
    "minCostToMoveChips(position)"
   ]
  },
  {
   "cell_type": "markdown",
   "metadata": {},
   "source": [
    "# 1290. Convert Binary Number in a Linked List to Integer    ✅\n",
    "https://leetcode.com/problems/convert-binary-number-in-a-linked-list-to-integer/"
   ]
  },
  {
   "cell_type": "code",
   "execution_count": 69,
   "metadata": {},
   "outputs": [],
   "source": [
    "#Definition for singly-linked list.\n",
    "class ListNode:\n",
    "    def __init__(self, val=0, next=None):\n",
    "        self.val = val\n",
    "        self.next = next"
   ]
  },
  {
   "cell_type": "code",
   "execution_count": 70,
   "metadata": {},
   "outputs": [],
   "source": [
    "class Solution:\n",
    "    def getDecimalValue(self, head: ListNode) -> int:\n",
    "        list = []\n",
    "        while head is not None:\n",
    "            list.append(head.val)\n",
    "            head = head.next\n",
    "        return int(\"\".join([str(i) for i in list]),2)"
   ]
  },
  {
   "cell_type": "code",
   "execution_count": 71,
   "metadata": {},
   "outputs": [],
   "source": [
    "head = ListNode([1,0,0,1,0,0,1,1,1,0,0,0,0,0,0])"
   ]
  },
  {
   "cell_type": "code",
   "execution_count": 72,
   "metadata": {},
   "outputs": [
    {
     "data": {
      "text/plain": [
       "__main__.ListNode"
      ]
     },
     "execution_count": 72,
     "metadata": {},
     "output_type": "execute_result"
    }
   ],
   "source": [
    "type(head)"
   ]
  },
  {
   "cell_type": "code",
   "execution_count": 73,
   "metadata": {},
   "outputs": [
    {
     "name": "stdout",
     "output_type": "stream",
     "text": [
      "[1, 0, 0, 1, 0, 0, 1, 1, 1, 0, 0, 0, 0, 0, 0]\n"
     ]
    }
   ],
   "source": [
    "while head is not None:\n",
    "    print(head.val)\n",
    "    head = head.next"
   ]
  },
  {
   "cell_type": "code",
   "execution_count": null,
   "metadata": {},
   "outputs": [],
   "source": []
  }
 ],
 "metadata": {
  "kernelspec": {
   "display_name": "Python 3",
   "language": "python",
   "name": "python3"
  },
  "language_info": {
   "codemirror_mode": {
    "name": "ipython",
    "version": 3
   },
   "file_extension": ".py",
   "mimetype": "text/x-python",
   "name": "python",
   "nbconvert_exporter": "python",
   "pygments_lexer": "ipython3",
   "version": "3.8.2"
  }
 },
 "nbformat": 4,
 "nbformat_minor": 4
}
