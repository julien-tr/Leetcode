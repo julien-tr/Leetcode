{
 "cells": [
  {
   "cell_type": "markdown",
   "metadata": {},
   "source": [
    "# November 1rst\n",
    "## 1290. Convert Binary Number in a Linked List to Integer\n",
    "https://leetcode.com/problems/convert-binary-number-in-a-linked-list-to-integer/"
   ]
  },
  {
   "cell_type": "code",
   "execution_count": 2,
   "metadata": {},
   "outputs": [],
   "source": [
    "#Definition for singly-linked list.\n",
    "class ListNode:\n",
    "    def __init__(self, val=0, next=None):\n",
    "        self.val = val\n",
    "        self.next = next"
   ]
  },
  {
   "cell_type": "code",
   "execution_count": 3,
   "metadata": {},
   "outputs": [],
   "source": [
    "class Solution:\n",
    "    def getDecimalValue(self, head: ListNode) -> int:\n",
    "        list = []\n",
    "        while head is not None:\n",
    "            list.append(head.val)\n",
    "            head = head.next\n",
    "        return int(\"\".join([str(i) for i in list]),2)"
   ]
  },
  {
   "cell_type": "code",
   "execution_count": 4,
   "metadata": {},
   "outputs": [],
   "source": [
    "head = ListNode([1,0,0,1,0,0,1,1,1,0,0,0,0,0,0])"
   ]
  },
  {
   "cell_type": "code",
   "execution_count": 5,
   "metadata": {},
   "outputs": [
    {
     "data": {
      "text/plain": [
       "__main__.ListNode"
      ]
     },
     "execution_count": 5,
     "metadata": {},
     "output_type": "execute_result"
    }
   ],
   "source": [
    "type(head)"
   ]
  },
  {
   "cell_type": "code",
   "execution_count": 6,
   "metadata": {},
   "outputs": [
    {
     "name": "stdout",
     "output_type": "stream",
     "text": [
      "[1, 0, 0, 1, 0, 0, 1, 1, 1, 0, 0, 0, 0, 0, 0]\n"
     ]
    }
   ],
   "source": [
    "while head is not None:\n",
    "    print(head.val)\n",
    "    head = head.next"
   ]
  },
  {
   "cell_type": "code",
   "execution_count": null,
   "metadata": {},
   "outputs": [],
   "source": []
  },
  {
   "cell_type": "code",
   "execution_count": null,
   "metadata": {},
   "outputs": [],
   "source": []
  },
  {
   "cell_type": "markdown",
   "metadata": {},
   "source": [
    "# November 2nd"
   ]
  },
  {
   "cell_type": "code",
   "execution_count": 8,
   "metadata": {},
   "outputs": [],
   "source": [
    "# Sort a linked list using insertion sort."
   ]
  },
  {
   "cell_type": "code",
   "execution_count": 9,
   "metadata": {},
   "outputs": [],
   "source": [
    "class Solution:\n",
    "    def getDecimalValue(self, head: ListNode) -> int:\n",
    "        list = []\n",
    "        while head is not None:\n",
    "            list.append(head.val)\n",
    "            head = head.next\n",
    "        return int(\"\".join([str(i) for i in list]),2)"
   ]
  },
  {
   "cell_type": "code",
   "execution_count": 10,
   "metadata": {},
   "outputs": [
    {
     "ename": "SyntaxError",
     "evalue": "unexpected EOF while parsing (<ipython-input-10-79a1c9f3c706>, line 3)",
     "output_type": "error",
     "traceback": [
      "\u001b[0;36m  File \u001b[0;32m\"<ipython-input-10-79a1c9f3c706>\"\u001b[0;36m, line \u001b[0;32m3\u001b[0m\n\u001b[0;31m    \u001b[0m\n\u001b[0m    ^\u001b[0m\n\u001b[0;31mSyntaxError\u001b[0m\u001b[0;31m:\u001b[0m unexpected EOF while parsing\n"
     ]
    }
   ],
   "source": [
    "class Solution:\n",
    "    def insertionSortList(self, head: ListNode) -> ListNode:\n",
    "        "
   ]
  },
  {
   "cell_type": "code",
   "execution_count": 14,
   "metadata": {},
   "outputs": [],
   "source": [
    "# Help on class ListNode in module precompiled.listnode:\n",
    "\n",
    "# class ListNode(builtins.object)\n",
    "#  |  ListNode(val=0, next=None)\n",
    "#  |  \n",
    "#  |  Methods defined here:\n",
    "#  |  \n",
    "#  |  __init__(self, val=0, next=None)\n",
    "#  |      Initialize self.  See help(type(self)) for accurate signature.\n",
    "#  |  \n",
    "#  |  __repr__(self)\n",
    "#  |      Return repr(self).\n",
    "#  |  \n",
    "#  |  __str__(self)\n",
    "#  |      Return str(self).\n",
    "#  |  \n",
    "#  |  ----------------------------------------------------------------------\n",
    "#  |  Class methods defined here:\n",
    "#  |  \n",
    "#  |  serialize(head) from builtins.type\n",
    "#  |  \n",
    "#  |  ----------------------------------------------------------------------\n",
    "#  |  Static methods defined here:\n",
    "#  |  \n",
    "#  |  deserialize(s)\n",
    "#  |  \n",
    "#  |  has_cycle(head)\n",
    "#  |  \n",
    "#  |  ----------------------------------------------------------------------\n",
    "#  |  Data descriptors defined here:\n",
    "#  |  \n",
    "#  |  __dict__\n",
    "#  |      dictionary for instance variables (if defined)\n",
    "#  |  \n",
    "#  |  __weakref__\n",
    "#  |      list of weak references to the object (if defined)"
   ]
  },
  {
   "cell_type": "code",
   "execution_count": null,
   "metadata": {},
   "outputs": [],
   "source": []
  },
  {
   "cell_type": "markdown",
   "metadata": {},
   "source": [
    "# November 3rd\n",
    "https://leetcode.com/problems/consecutive-characters/"
   ]
  },
  {
   "cell_type": "code",
   "execution_count": 22,
   "metadata": {},
   "outputs": [],
   "source": [
    "class Solution:\n",
    "    def maxPower(s):\n",
    "        power = 0\n",
    "        if len(s) == 1:\n",
    "            return 1\n",
    "        for i in range(len(s)-1):\n",
    "            temp_power = 1\n",
    "            while (s[i] == s[i+1]):\n",
    "                temp_power += 1\n",
    "                i += 1\n",
    "                if i == len(s)-1:\n",
    "                    break\n",
    "            if temp_power > power:\n",
    "                power = temp_power\n",
    "        return power"
   ]
  },
  {
   "cell_type": "code",
   "execution_count": 23,
   "metadata": {},
   "outputs": [],
   "source": [
    "s = 'leetcode'"
   ]
  },
  {
   "cell_type": "code",
   "execution_count": 24,
   "metadata": {},
   "outputs": [
    {
     "data": {
      "text/plain": [
       "2"
      ]
     },
     "execution_count": 24,
     "metadata": {},
     "output_type": "execute_result"
    }
   ],
   "source": [
    "Solution.maxPower(s)"
   ]
  },
  {
   "cell_type": "markdown",
   "metadata": {},
   "source": [
    "# November 4th\n",
    "Minimum Height Trees"
   ]
  },
  {
   "cell_type": "code",
   "execution_count": 115,
   "metadata": {},
   "outputs": [],
   "source": [
    "def findMinHeightTrees(n, edges):\n",
    "    output = []\n",
    "    height = 0\n",
    "    \n",
    "    for root in range(n):\n",
    "        print('root : ' + str(root))\n",
    "        root_smallest_height = 0\n",
    "        for edge in edges:\n",
    "            current_smallest_height = 0\n",
    "            while root in edge:\n",
    "                current_smallest_height += 1\n",
    "                edges.remove(edge)\n",
    "                edge.remove(root)\n",
    "                root = edge\n",
    "                print('new_root :' +str(root))\n",
    "            if current_smallest_height >= root_smallest_height:\n",
    "                root_smallest_height = current_smallest_height\n",
    "        if root_smallest_height >= height:\n",
    "            output.append(root_smallest_height)\n",
    "    return output, height"
   ]
  },
  {
   "cell_type": "code",
   "execution_count": 213,
   "metadata": {},
   "outputs": [],
   "source": [
    "def findMinHeightTrees(n, edges):\n",
    "    nodes_dict = []\n",
    "    \n",
    "    for root in range(n):\n",
    "        root_dict = {root:[]}\n",
    "        print('root : ' + str(root))\n",
    "        \n",
    "        for edge in edges:\n",
    "            a = root\n",
    "            b = edge\n",
    "            root_height = 0\n",
    "            while a in b:\n",
    "                i = 0\n",
    "                root_height += 1\n",
    "                b.remove(a)\n",
    "                a = b\n",
    "                b = edges[i]\n",
    "                i += 1\n",
    "            root_dict[root].append(root_height)\n",
    "        nodes_dict.append(root_dict) \n",
    " \n",
    "         \n",
    "    return nodes_dict"
   ]
  },
  {
   "cell_type": "code",
   "execution_count": 251,
   "metadata": {},
   "outputs": [],
   "source": [
    "def findMinHeightTrees(n, edges):\n",
    "    nodes_dict = []\n",
    "    \n",
    "    #def path_tracer(cursor,edge):\n",
    "        \n",
    "    for root in range(n):\n",
    "        root_dict = {root:[]}\n",
    "        print('root : ' + str(root))\n",
    "        \n",
    "        cursor = root\n",
    "        remaining_edges = edges\n",
    "        \n",
    "        while edge in remaining_edges:\n",
    "            height = 0\n",
    "            while cursor in edge:\n",
    "                height +=1\n",
    "                remaining_edges.remove(edge)\n",
    "                edge.remove(cursor)\n",
    "                cursor = edge\n",
    "                \n",
    "                \n",
    "                \n",
    "\n",
    "    #root_dict[root].append(root_height)\n",
    "    #nodes_dict.append(root_dict) \n",
    "   \n",
    "    return nodes_dict"
   ]
  },
  {
   "cell_type": "code",
   "execution_count": 252,
   "metadata": {},
   "outputs": [],
   "source": [
    "n = 4\n",
    "edges = [[1,0],[1,2],[1,3]]\n",
    "#output [1]"
   ]
  },
  {
   "cell_type": "code",
   "execution_count": 253,
   "metadata": {},
   "outputs": [],
   "source": [
    "# n = 6\n",
    "# edges = [[3,0],[3,1],[3,2],[3,4],[5,4]]\n",
    "# #Output: [3,4]"
   ]
  },
  {
   "cell_type": "code",
   "execution_count": 254,
   "metadata": {},
   "outputs": [
    {
     "name": "stdout",
     "output_type": "stream",
     "text": [
      "root : 0\n"
     ]
    },
    {
     "ename": "NameError",
     "evalue": "name 'edge' is not defined",
     "output_type": "error",
     "traceback": [
      "\u001b[0;31m---------------------------------------------------------------------------\u001b[0m",
      "\u001b[0;31mNameError\u001b[0m                                 Traceback (most recent call last)",
      "\u001b[0;32m<ipython-input-254-2adde5f626bb>\u001b[0m in \u001b[0;36m<module>\u001b[0;34m\u001b[0m\n\u001b[0;32m----> 1\u001b[0;31m \u001b[0mfindMinHeightTrees\u001b[0m\u001b[0;34m(\u001b[0m\u001b[0mn\u001b[0m\u001b[0;34m,\u001b[0m \u001b[0medges\u001b[0m\u001b[0;34m)\u001b[0m\u001b[0;34m\u001b[0m\u001b[0;34m\u001b[0m\u001b[0m\n\u001b[0m",
      "\u001b[0;32m<ipython-input-251-95a6a3be47d7>\u001b[0m in \u001b[0;36mfindMinHeightTrees\u001b[0;34m(n, edges)\u001b[0m\n\u001b[1;32m     12\u001b[0m         \u001b[0mremaining_edges\u001b[0m \u001b[0;34m=\u001b[0m \u001b[0medges\u001b[0m\u001b[0;34m\u001b[0m\u001b[0;34m\u001b[0m\u001b[0m\n\u001b[1;32m     13\u001b[0m \u001b[0;34m\u001b[0m\u001b[0m\n\u001b[0;32m---> 14\u001b[0;31m         \u001b[0;32mwhile\u001b[0m \u001b[0medge\u001b[0m \u001b[0;32min\u001b[0m \u001b[0mremaining_edges\u001b[0m\u001b[0;34m:\u001b[0m\u001b[0;34m\u001b[0m\u001b[0;34m\u001b[0m\u001b[0m\n\u001b[0m\u001b[1;32m     15\u001b[0m             \u001b[0mheight\u001b[0m \u001b[0;34m=\u001b[0m \u001b[0;36m0\u001b[0m\u001b[0;34m\u001b[0m\u001b[0;34m\u001b[0m\u001b[0m\n\u001b[1;32m     16\u001b[0m             \u001b[0;32mwhile\u001b[0m \u001b[0mcursor\u001b[0m \u001b[0;32min\u001b[0m \u001b[0medge\u001b[0m\u001b[0;34m:\u001b[0m\u001b[0;34m\u001b[0m\u001b[0;34m\u001b[0m\u001b[0m\n",
      "\u001b[0;31mNameError\u001b[0m: name 'edge' is not defined"
     ]
    }
   ],
   "source": [
    "findMinHeightTrees(n, edges)"
   ]
  },
  {
   "cell_type": "code",
   "execution_count": null,
   "metadata": {},
   "outputs": [],
   "source": [
    "range(n)"
   ]
  },
  {
   "cell_type": "code",
   "execution_count": null,
   "metadata": {},
   "outputs": [],
   "source": []
  },
  {
   "cell_type": "markdown",
   "metadata": {},
   "source": [
    "# November 5th\n"
   ]
  },
  {
   "cell_type": "code",
   "execution_count": 392,
   "metadata": {},
   "outputs": [],
   "source": [
    "def minCostToMoveChips(position):\n",
    "    \n",
    "    even_list, odd_list = [], []\n",
    "    for num in position: \n",
    "        if num % 2 == 0: \n",
    "            even_list.append(num)\n",
    "        else: \n",
    "            odd_list.append(num)\n",
    "    \n",
    "    cost = 0 \n",
    "    \n",
    "    from statistics import mode\n",
    "    \n",
    "    if len(even_list) > len(odd_list):\n",
    "        goalpost = mode(even_list)\n",
    "    else: \n",
    "        goalpost = mode(odd_list)     \n",
    "    \n",
    "    while goalpost in position:\n",
    "        position.remove(goalpost)\n",
    "    for moving_coins in position:\n",
    "        if abs(moving_coins - goalpost) % 2 == 1 :\n",
    "            cost +=1\n",
    "    \n",
    "    return cost"
   ]
  },
  {
   "cell_type": "code",
   "execution_count": 393,
   "metadata": {},
   "outputs": [],
   "source": [
    "#position = [2,2,2,3,3]\n",
    "#output : 2"
   ]
  },
  {
   "cell_type": "code",
   "execution_count": 394,
   "metadata": {},
   "outputs": [],
   "source": [
    "#position = [1,1000000000]\n",
    "# output : 1"
   ]
  },
  {
   "cell_type": "code",
   "execution_count": 397,
   "metadata": {},
   "outputs": [],
   "source": [
    "position = [6,4,7,8,2,10,2,7,9,7]\n",
    "# output : 4"
   ]
  },
  {
   "cell_type": "code",
   "execution_count": 398,
   "metadata": {},
   "outputs": [
    {
     "data": {
      "text/plain": [
       "4"
      ]
     },
     "execution_count": 398,
     "metadata": {},
     "output_type": "execute_result"
    }
   ],
   "source": [
    "minCostToMoveChips(position)"
   ]
  },
  {
   "cell_type": "code",
   "execution_count": null,
   "metadata": {},
   "outputs": [],
   "source": []
  },
  {
   "cell_type": "code",
   "execution_count": 361,
   "metadata": {},
   "outputs": [
    {
     "data": {
      "text/plain": [
       "[2, 2, 4, 6, 7, 7, 7, 8, 9, 10]"
      ]
     },
     "execution_count": 361,
     "metadata": {},
     "output_type": "execute_result"
    }
   ],
   "source": []
  },
  {
   "cell_type": "code",
   "execution_count": null,
   "metadata": {},
   "outputs": [],
   "source": []
  },
  {
   "cell_type": "code",
   "execution_count": null,
   "metadata": {},
   "outputs": [],
   "source": []
  }
 ],
 "metadata": {
  "kernelspec": {
   "display_name": "Python 3",
   "language": "python",
   "name": "python3"
  },
  "language_info": {
   "codemirror_mode": {
    "name": "ipython",
    "version": 3
   },
   "file_extension": ".py",
   "mimetype": "text/x-python",
   "name": "python",
   "nbconvert_exporter": "python",
   "pygments_lexer": "ipython3",
   "version": "3.8.2"
  }
 },
 "nbformat": 4,
 "nbformat_minor": 4
}
